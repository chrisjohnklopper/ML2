{
 "cells": [
  {
   "cell_type": "code",
   "execution_count": 3,
   "id": "b3037b57",
   "metadata": {},
   "outputs": [],
   "source": [
    "# Imports\n",
    "import importlib.util, os\n",
    "import numpy as np\n",
    "import pandas as pd\n",
    "\n",
    "from sklearn.pipeline import FunctionTransformer\n",
    "from sklearn.model_selection import GridSearchCV, KFold, train_test_split\n",
    "from sklearn.neighbors import KNeighborsClassifier\n",
    "from imblearn.pipeline import Pipeline\n",
    "from sklearn.preprocessing import RobustScaler\n",
    "import pickle\n",
    "from sklearn.metrics import classification_report\n",
    "from imblearn.over_sampling import SMOTE\n",
    "from sklearn.neighbors import NearestNeighbors\n",
    "from sklearn.tree import DecisionTreeClassifier\n",
    "import pickle\n",
    "\n",
    "# Custom imports for visualisation\n",
    "spec = importlib.util.spec_from_file_location(\"utilities\", os.path.join(\"..\", \"Python-Files\", \"utilities.py\"))\n",
    "utilities = importlib.util.module_from_spec(spec)\n",
    "spec.loader.exec_module(utilities)\n",
    "line_graph = utilities.line_graph\n",
    "boxplot = utilities.boxplot\n",
    "\n",
    "# Constants\n",
    "K_FOLDS = 5\n",
    "RANDOM_STATE = 420\n",
    "\n",
    "# Settings  \n",
    "pd.set_option('display.max_columns', None)\n",
    "\n",
    "# Import data and split (the random state is important here to ensure that the same test set is used across models)\n",
    "data = pd.read_csv('../Processed-Datasets/forestCover-Preprocessed.csv')\n",
    "train, test = train_test_split(data, test_size=0.2, random_state=42)"
   ]
  },
  {
   "cell_type": "markdown",
   "id": "6fb10c72",
   "metadata": {},
   "source": [
    "t-test"
   ]
  },
  {
   "cell_type": "code",
   "execution_count": 4,
   "id": "2e154d1a",
   "metadata": {},
   "outputs": [],
   "source": [
    "with open('../Pickle-Objects/ClassifierTree-Final-GridSearch.pkl', 'rb') as f:\n",
    "    tree_grid_search = pickle.load(f)"
   ]
  },
  {
   "cell_type": "code",
   "execution_count": 5,
   "id": "e7fc3867",
   "metadata": {},
   "outputs": [
    {
     "name": "stdout",
     "output_type": "stream",
     "text": [
      "{'dt__ccp_alpha': 0.0, 'dt__class_weight': None, 'dt__max_depth': 32, 'dt__max_features': None, 'dt__min_samples_leaf': 1, 'dt__min_samples_split': 2}\n"
     ]
    }
   ],
   "source": [
    "print(tree_grid_search.best_params_)\n",
    "\n",
    "tree_pipeline = Pipeline([\n",
    "    (\"scaler\", RobustScaler(unit_variance=True)), \n",
    "    (\"dt\", DecisionTreeClassifier(ccp_alpha=tree_grid_search.best_params_['dt__ccp_alpha'],\n",
    "                                  class_weight=tree_grid_search.best_params_['dt__class_weight'],\n",
    "                                  max_depth=tree_grid_search.best_params_['dt__max_depth'],\n",
    "                                  max_features=tree_grid_search.best_params_['dt__max_features'],\n",
    "                                  min_samples_leaf=tree_grid_search.best_params_['dt__min_samples_leaf'],\n",
    "                                  min_samples_split=tree_grid_search.best_params_['dt__min_samples_split']))\n",
    "])"
   ]
  },
  {
   "cell_type": "code",
   "execution_count": 6,
   "id": "01ae8fd6",
   "metadata": {},
   "outputs": [],
   "source": [
    "knn_pipeline = Pipeline([\n",
    "    (\"scaler\", RobustScaler(unit_variance=True)), \n",
    "    (\"knn\", KNeighborsClassifier(weights='distance', \n",
    "                                 n_neighbors=4))\n",
    "])"
   ]
  },
  {
   "cell_type": "code",
   "execution_count": 7,
   "id": "06ecb2f8",
   "metadata": {},
   "outputs": [],
   "source": [
    "from sklearn.model_selection import cross_val_score\n",
    "from sklearn.neighbors import KNeighborsClassifier\n",
    "from sklearn.tree import DecisionTreeClassifier\n",
    "from scipy import stats\n",
    "import numpy as np\n",
    "RANDOM_STATE = 420\n",
    "train_subset = train.sample(n=int(train.shape[0] * 0.5), random_state=RANDOM_STATE)\n",
    "\n",
    "X = train_subset.drop(columns=['Cover_Type'])\n",
    "y = train_subset['Cover_Type']\n",
    "\n",
    "knn_scores = cross_val_score(knn_pipeline, X, y, cv=10, scoring='f1_macro')\n",
    "tree_scores = cross_val_score(tree_pipeline, X, y, cv=10, scoring='f1_macro')"
   ]
  },
  {
   "cell_type": "code",
   "execution_count": 9,
   "id": "62c975f1",
   "metadata": {},
   "outputs": [],
   "source": [
    "t_stat, p_value = stats.ttest_rel(knn_scores, tree_scores)"
   ]
  },
  {
   "cell_type": "code",
   "execution_count": 10,
   "id": "404ece22",
   "metadata": {},
   "outputs": [
    {
     "data": {
      "text/plain": [
       "np.float64(-4.510944095451361)"
      ]
     },
     "execution_count": 10,
     "metadata": {},
     "output_type": "execute_result"
    }
   ],
   "source": [
    "t_stat"
   ]
  },
  {
   "cell_type": "code",
   "execution_count": 11,
   "id": "6e369aa2",
   "metadata": {},
   "outputs": [
    {
     "data": {
      "text/plain": [
       "np.float64(0.0014657212985050437)"
      ]
     },
     "execution_count": 11,
     "metadata": {},
     "output_type": "execute_result"
    }
   ],
   "source": [
    "p_value"
   ]
  },
  {
   "cell_type": "code",
   "execution_count": 12,
   "id": "fa738d8f",
   "metadata": {},
   "outputs": [
    {
     "data": {
      "text/plain": [
       "array([0.84539201, 0.86390949, 0.84582565, 0.85279219, 0.84738556,\n",
       "       0.85492138, 0.84680692, 0.84802461, 0.84438997, 0.84820712])"
      ]
     },
     "execution_count": 12,
     "metadata": {},
     "output_type": "execute_result"
    }
   ],
   "source": [
    "knn_scores"
   ]
  },
  {
   "cell_type": "code",
   "execution_count": 13,
   "id": "778f1576",
   "metadata": {},
   "outputs": [
    {
     "data": {
      "text/plain": [
       "array([0.85892957, 0.86409771, 0.85622224, 0.87096765, 0.85908199,\n",
       "       0.85267082, 0.85529706, 0.85407471, 0.85653897, 0.85698209])"
      ]
     },
     "execution_count": 13,
     "metadata": {},
     "output_type": "execute_result"
    }
   ],
   "source": [
    "tree_scores"
   ]
  },
  {
   "cell_type": "code",
   "execution_count": 14,
   "id": "ede59925",
   "metadata": {},
   "outputs": [
    {
     "name": "stdout",
     "output_type": "stream",
     "text": [
      "KNN min: 0.8444\n",
      "Classifier Tree min: 0.8527\n",
      "KNN max: 0.8639\n",
      "Classifier Tree max: 0.8710\n",
      "KNN mean: 0.8498\n",
      "Classifier Tree mean: 0.8585\n",
      "KNN std dev: 0.0056\n",
      "Classifier Tree std dev: 0.0051\n",
      "T-statistic: -4.5109\n",
      "P-value: 0.0015\n"
     ]
    }
   ],
   "source": [
    "print(f'KNN min: {min(knn_scores):.4f}')\n",
    "print(f'Classifier Tree min: {min(tree_scores):.4f}')\n",
    "\n",
    "print(f'KNN max: {max(knn_scores):.4f}')\n",
    "print(f'Classifier Tree max: {max(tree_scores):.4f}')\n",
    "\n",
    "print(f'KNN mean: {np.mean(knn_scores):.4f}')\n",
    "print(f'Classifier Tree mean: {np.mean(tree_scores):.4f}')\n",
    "\n",
    "print(f'KNN std dev: {np.std(knn_scores):.4f}')\n",
    "print(f'Classifier Tree std dev: {np.std(tree_scores):.4f}')\n",
    "\n",
    "print(f'T-statistic: {t_stat:.4f}')\n",
    "print(f'P-value: {p_value:.4f}')"
   ]
  },
  {
   "cell_type": "markdown",
   "id": "054202fa",
   "metadata": {},
   "source": [
    "Wilcoxon"
   ]
  },
  {
   "cell_type": "code",
   "execution_count": 16,
   "id": "cc699eb4",
   "metadata": {},
   "outputs": [],
   "source": [
    "will_stat, will_p = stats.wilcoxon(knn_scores, tree_scores)"
   ]
  },
  {
   "cell_type": "code",
   "execution_count": 17,
   "id": "79afff6d",
   "metadata": {},
   "outputs": [
    {
     "data": {
      "text/plain": [
       "np.float64(2.0)"
      ]
     },
     "execution_count": 17,
     "metadata": {},
     "output_type": "execute_result"
    }
   ],
   "source": [
    "will_stat"
   ]
  },
  {
   "cell_type": "code",
   "execution_count": 18,
   "id": "243cc729",
   "metadata": {},
   "outputs": [
    {
     "data": {
      "text/plain": [
       "np.float64(0.005859375)"
      ]
     },
     "execution_count": 18,
     "metadata": {},
     "output_type": "execute_result"
    }
   ],
   "source": [
    "will_p"
   ]
  }
 ],
 "metadata": {
  "kernelspec": {
   "display_name": ".venv",
   "language": "python",
   "name": "python3"
  },
  "language_info": {
   "codemirror_mode": {
    "name": "ipython",
    "version": 3
   },
   "file_extension": ".py",
   "mimetype": "text/x-python",
   "name": "python",
   "nbconvert_exporter": "python",
   "pygments_lexer": "ipython3",
   "version": "3.12.3"
  }
 },
 "nbformat": 4,
 "nbformat_minor": 5
}
